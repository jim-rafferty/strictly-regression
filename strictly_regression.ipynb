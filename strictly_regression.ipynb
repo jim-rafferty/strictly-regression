{
 "cells": [
  {
   "cell_type": "markdown",
   "metadata": {},
   "source": [
    "# Introduction\n",
    "\n",
    "We are going to try and model the strictly come dancing judges scores using multilevel linear regression and the people in the dance off following the public vote using multilevel logistic regression to see if there are any patterns based on the demographics of the celebrity dancers.\n",
    "\n",
    "Data came from here:\n",
    "\n",
    "* https://en.wikipedia.org/wiki/Strictly_Come_Dancing#Main_series_results\n",
    "* https://en.wikipedia.org/wiki/List_of_Strictly_Come_Dancing_contestants\n"
   ]
  },
  {
   "cell_type": "code",
   "execution_count": 1,
   "metadata": {},
   "outputs": [],
   "source": [
    "import pandas as pd\n",
    "import statsmodels.api as sm\n",
    "import statsmodels.formula.api as smf\n",
    "import numpy as np\n",
    "import scipy.stats as sst\n",
    "\n",
    "import seaborn as sns\n",
    "import matplotlib.pyplot as plt"
   ]
  },
  {
   "cell_type": "code",
   "execution_count": 2,
   "metadata": {},
   "outputs": [],
   "source": [
    "# load the data\n",
    "data = pd.read_csv(\"SCD_Series18.csv\")\n",
    "data_demo = pd.read_csv(\"SCD_celebrity_demographics.csv\")\n",
    "data_results = pd.read_csv(\"results_cleaned.csv\", encoding=\"cp1252\")"
   ]
  },
  {
   "cell_type": "markdown",
   "metadata": {},
   "source": [
    "First up, we read the data in and join it so there is one row per dance in the data table. There's a little bit of set up to create the columns that will be used for the join in the demographic table. "
   ]
  },
  {
   "cell_type": "code",
   "execution_count": 3,
   "metadata": {},
   "outputs": [],
   "source": [
    "data_demo[\"Couple\"] = (data_demo[\"Celebrity\"].map(lambda x: x.split(\" \")[0]) \n",
    "                       + \" & \" \n",
    "                       + data_demo[\"Professional\"].map(lambda x: x.split(\" \")[0]))\n",
    "data = pd.merge(\n",
    "    data,\n",
    "    data_demo,\n",
    "    left_on=[\"Couple\", \"Series\"],\n",
    "    right_on=[\"Couple\", \"Series\"],\n",
    "    how=\"left\"\n",
    ")"
   ]
  },
  {
   "cell_type": "markdown",
   "metadata": {},
   "source": [
    "The results table needs quite a bit of cleaning, mostly because there are some errors / differences in convention about how the names of the dancers are recorded. "
   ]
  },
  {
   "cell_type": "code",
   "execution_count": 4,
   "metadata": {},
   "outputs": [],
   "source": [
    "# bit more cleaning on the results data\n",
    "\n",
    "data[\"Couple\"] = data[\"Couple\"].map(\n",
    "    lambda x: x.replace(\"Aljaz\", \"Aljaž\")\n",
    ")\n",
    "\n",
    "# If missing result is in week 2 or before, assume NOONE left.\n",
    "data_results.loc[\n",
    "    np.logical_and(data_results[\"Result\"].isnull(), data_results[\"Week\"] <= 2), \"Result\"\n",
    "] = data_results[np.logical_and(data_results[\"Result\"].isnull(), data_results[\"Week\"] <= 2)].fillna(\"Safe\")\n",
    "\n",
    "# If missing result is after week 2, assume it's because of multiple dances per show\n",
    "data_results[\"Result\"] = data_results[\"Result\"].ffill()\n",
    "\n",
    "data_results[\"Couple\"] = data_results[\"Couple\"].ffill()\n",
    "data_results[\"Couple\"] = data_results[\"Couple\"].map(lambda x: x.replace(\" and \", \" & \"))\n",
    "data_results[\"Couple\"] = data_results[\"Couple\"].replace(\n",
    "    \"Cristopher & Hanna\", \"Chris & Hanna\"\n",
    ").replace(\n",
    "    \"Christopher & Hanna\", \"Chris & Hanna\"\n",
    ").replace(\n",
    "    \"Dennis & Izabela\", \"Dennis & Izabella\"\n",
    ").map(\n",
    "    lambda x: x.replace(\"Aljaz\", \"Aljaž\")\n",
    ").map(\n",
    "    lambda x: x.replace(\"Emma W.\", \"Emma\")\n",
    ").map(\n",
    "    lambda x: x.replace(\"Emma B.\", \"Emma\")\n",
    ").map(\n",
    "    lambda x: x.replace(\"2\", \"\")\n",
    ").map(\n",
    "    lambda x: x.replace(\"1\", \"\")\n",
    ").map(\n",
    "    lambda x: x.replace(\"Judge Rinder\", \"Robert\")\n",
    ").map(\n",
    "    lambda x: x.replace(\"Rev. Richard\", \"Richard\")\n",
    ").map(\n",
    "    lambda x: x.replace(\"Dr. Ranj\", \"Ranj\")\n",
    ").map(\n",
    "    lambda x: x.replace(\"& Ian Waite\", \"& Ian\")\n",
    ")"
   ]
  },
  {
   "cell_type": "code",
   "execution_count": 5,
   "metadata": {},
   "outputs": [],
   "source": [
    "data = pd.merge(\n",
    "    data,\n",
    "    data_results,\n",
    "    left_on=[\"Couple\", \"Series\", \"Week\"],\n",
    "    right_on=[\"Couple\", \"Series\", \"Week\"],\n",
    "    how=\"left\"\n",
    ")"
   ]
  },
  {
   "cell_type": "markdown",
   "metadata": {},
   "source": [
    "At this point we have a data table with more or less everything we need for the analysis. There are a few rows with missing data that will get dropped when the analysis is done and if could probably be fixed with more cleaning rules above..."
   ]
  },
  {
   "cell_type": "code",
   "execution_count": 6,
   "metadata": {
    "scrolled": false
   },
   "outputs": [
    {
     "data": {
      "text/html": [
       "<div>\n",
       "<style scoped>\n",
       "    .dataframe tbody tr th:only-of-type {\n",
       "        vertical-align: middle;\n",
       "    }\n",
       "\n",
       "    .dataframe tbody tr th {\n",
       "        vertical-align: top;\n",
       "    }\n",
       "\n",
       "    .dataframe thead th {\n",
       "        text-align: right;\n",
       "    }\n",
       "</style>\n",
       "<table border=\"1\" class=\"dataframe\">\n",
       "  <thead>\n",
       "    <tr style=\"text-align: right;\">\n",
       "      <th></th>\n",
       "      <th>#</th>\n",
       "      <th>Couple</th>\n",
       "      <th>Dance_x</th>\n",
       "      <th>Song</th>\n",
       "      <th>Date</th>\n",
       "      <th>Series</th>\n",
       "      <th>Week</th>\n",
       "      <th>Order</th>\n",
       "      <th>Craig</th>\n",
       "      <th>Arlene</th>\n",
       "      <th>...</th>\n",
       "      <th>Place</th>\n",
       "      <th>Dances</th>\n",
       "      <th>Best score</th>\n",
       "      <th>Worst score</th>\n",
       "      <th>Aggregate</th>\n",
       "      <th>Average</th>\n",
       "      <th>Score</th>\n",
       "      <th>Dance_y</th>\n",
       "      <th>Music</th>\n",
       "      <th>Result</th>\n",
       "    </tr>\n",
       "  </thead>\n",
       "  <tbody>\n",
       "    <tr>\n",
       "      <th>1494</th>\n",
       "      <td>1117</td>\n",
       "      <td>Natalie &amp; Artem</td>\n",
       "      <td>Jive</td>\n",
       "      <td>Proud Mary</td>\n",
       "      <td>Series 11, Week 07</td>\n",
       "      <td>11</td>\n",
       "      <td>7</td>\n",
       "      <td>7</td>\n",
       "      <td>-</td>\n",
       "      <td>-</td>\n",
       "      <td>...</td>\n",
       "      <td>=2nd/15</td>\n",
       "      <td>15.0</td>\n",
       "      <td>40.0</td>\n",
       "      <td>31.0</td>\n",
       "      <td>553.0</td>\n",
       "      <td>36.87</td>\n",
       "      <td>NaN</td>\n",
       "      <td>NaN</td>\n",
       "      <td>NaN</td>\n",
       "      <td>NaN</td>\n",
       "    </tr>\n",
       "    <tr>\n",
       "      <th>1878</th>\n",
       "      <td>1437</td>\n",
       "      <td>Kellie &amp; Kevin</td>\n",
       "      <td>Rumba</td>\n",
       "      <td>Songbird</td>\n",
       "      <td>Series 13, Week 12</td>\n",
       "      <td>13</td>\n",
       "      <td>12</td>\n",
       "      <td>5</td>\n",
       "      <td>9</td>\n",
       "      <td>-</td>\n",
       "      <td>...</td>\n",
       "      <td>=2nd/15</td>\n",
       "      <td>16.0</td>\n",
       "      <td>40.0</td>\n",
       "      <td>27.0</td>\n",
       "      <td>545.0</td>\n",
       "      <td>34.06</td>\n",
       "      <td>NaN</td>\n",
       "      <td>NaN</td>\n",
       "      <td>NaN</td>\n",
       "      <td>NaN</td>\n",
       "    </tr>\n",
       "    <tr>\n",
       "      <th>1887</th>\n",
       "      <td>1442</td>\n",
       "      <td>Kellie &amp; Kevin</td>\n",
       "      <td>American Smooth</td>\n",
       "      <td>Let's Face The Music and Dance</td>\n",
       "      <td>Series 13, Week 12</td>\n",
       "      <td>13</td>\n",
       "      <td>12</td>\n",
       "      <td>10</td>\n",
       "      <td>9</td>\n",
       "      <td>-</td>\n",
       "      <td>...</td>\n",
       "      <td>=2nd/15</td>\n",
       "      <td>16.0</td>\n",
       "      <td>40.0</td>\n",
       "      <td>27.0</td>\n",
       "      <td>545.0</td>\n",
       "      <td>34.06</td>\n",
       "      <td>NaN</td>\n",
       "      <td>NaN</td>\n",
       "      <td>NaN</td>\n",
       "      <td>NaN</td>\n",
       "    </tr>\n",
       "    <tr>\n",
       "      <th>2504</th>\n",
       "      <td>1936</td>\n",
       "      <td>Will &amp; Janette</td>\n",
       "      <td>Jive</td>\n",
       "      <td>Casper The Friendly Ghost</td>\n",
       "      <td>Series 17, Week 6</td>\n",
       "      <td>17</td>\n",
       "      <td>6</td>\n",
       "      <td>-</td>\n",
       "      <td>-</td>\n",
       "      <td>-</td>\n",
       "      <td>...</td>\n",
       "      <td>10th/15</td>\n",
       "      <td>5.0</td>\n",
       "      <td>32.0</td>\n",
       "      <td>23.0</td>\n",
       "      <td>129.0</td>\n",
       "      <td>25.80</td>\n",
       "      <td>NaN</td>\n",
       "      <td>NaN</td>\n",
       "      <td>NaN</td>\n",
       "      <td>NaN</td>\n",
       "    </tr>\n",
       "    <tr>\n",
       "      <th>2514</th>\n",
       "      <td>1955</td>\n",
       "      <td>Will &amp; Janette</td>\n",
       "      <td>Waltz</td>\n",
       "      <td>Weekend In New England</td>\n",
       "      <td>Series 17, Week 7</td>\n",
       "      <td>17</td>\n",
       "      <td>7</td>\n",
       "      <td>NaN</td>\n",
       "      <td>-</td>\n",
       "      <td>-</td>\n",
       "      <td>...</td>\n",
       "      <td>10th/15</td>\n",
       "      <td>5.0</td>\n",
       "      <td>32.0</td>\n",
       "      <td>23.0</td>\n",
       "      <td>129.0</td>\n",
       "      <td>25.80</td>\n",
       "      <td>NaN</td>\n",
       "      <td>NaN</td>\n",
       "      <td>NaN</td>\n",
       "      <td>NaN</td>\n",
       "    </tr>\n",
       "    <tr>\n",
       "      <th>2628</th>\n",
       "      <td>-</td>\n",
       "      <td>Nicola &amp; Katya</td>\n",
       "      <td>American Smooth</td>\n",
       "      <td>Stand By Me</td>\n",
       "      <td>Series 18, Week 4</td>\n",
       "      <td>18</td>\n",
       "      <td>4</td>\n",
       "      <td>DND</td>\n",
       "      <td>-</td>\n",
       "      <td>-</td>\n",
       "      <td>...</td>\n",
       "      <td>10th/12</td>\n",
       "      <td>3.0</td>\n",
       "      <td>32.0</td>\n",
       "      <td>25.0</td>\n",
       "      <td>85.0</td>\n",
       "      <td>28.33</td>\n",
       "      <td>NaN</td>\n",
       "      <td>NaN</td>\n",
       "      <td>NaN</td>\n",
       "      <td>NaN</td>\n",
       "    </tr>\n",
       "  </tbody>\n",
       "</table>\n",
       "<p>6 rows × 34 columns</p>\n",
       "</div>"
      ],
      "text/plain": [
       "         #           Couple          Dance_x                            Song  \\\n",
       "1494  1117  Natalie & Artem             Jive                      Proud Mary   \n",
       "1878  1437   Kellie & Kevin            Rumba                        Songbird   \n",
       "1887  1442   Kellie & Kevin  American Smooth  Let's Face The Music and Dance   \n",
       "2504  1936   Will & Janette             Jive       Casper The Friendly Ghost   \n",
       "2514  1955   Will & Janette            Waltz          Weekend In New England   \n",
       "2628     -   Nicola & Katya  American Smooth                     Stand By Me   \n",
       "\n",
       "                    Date  Series  Week Order Craig Arlene  ...    Place  \\\n",
       "1494  Series 11, Week 07      11     7     7     -      -  ...  =2nd/15   \n",
       "1878  Series 13, Week 12      13    12     5     9      -  ...  =2nd/15   \n",
       "1887  Series 13, Week 12      13    12    10     9      -  ...  =2nd/15   \n",
       "2504   Series 17, Week 6      17     6     -     -      -  ...  10th/15   \n",
       "2514   Series 17, Week 7      17     7   NaN     -      -  ...  10th/15   \n",
       "2628   Series 18, Week 4      18     4   DND     -      -  ...  10th/12   \n",
       "\n",
       "     Dances Best score Worst score Aggregate Average Score Dance_y Music  \\\n",
       "1494   15.0       40.0        31.0     553.0   36.87   NaN     NaN   NaN   \n",
       "1878   16.0       40.0        27.0     545.0   34.06   NaN     NaN   NaN   \n",
       "1887   16.0       40.0        27.0     545.0   34.06   NaN     NaN   NaN   \n",
       "2504    5.0       32.0        23.0     129.0   25.80   NaN     NaN   NaN   \n",
       "2514    5.0       32.0        23.0     129.0   25.80   NaN     NaN   NaN   \n",
       "2628    3.0       32.0        25.0      85.0   28.33   NaN     NaN   NaN   \n",
       "\n",
       "     Result  \n",
       "1494    NaN  \n",
       "1878    NaN  \n",
       "1887    NaN  \n",
       "2504    NaN  \n",
       "2514    NaN  \n",
       "2628    NaN  \n",
       "\n",
       "[6 rows x 34 columns]"
      ]
     },
     "execution_count": 6,
     "metadata": {},
     "output_type": "execute_result"
    }
   ],
   "source": [
    "# display rows with missing Result column\n",
    "data.loc[data[\"Result\"].isnull(), :]"
   ]
  },
  {
   "cell_type": "markdown",
   "metadata": {},
   "source": [
    "We need some dummy columns for the dance type (a column that is 0 or 1, a flag) representing whether or not the dance was in that particular category. The \"reference\" dance if all the other flags are 0 will be ballroom."
   ]
  },
  {
   "cell_type": "code",
   "execution_count": 7,
   "metadata": {},
   "outputs": [],
   "source": [
    "# initial cleaning \n",
    "inds = [x in [\"Ballroom\", \"Fusion\", \"Latin\", \"Speciality\"] for x in data[\"Type\"]]\n",
    "data = data.loc[inds, :]"
   ]
  },
  {
   "cell_type": "markdown",
   "metadata": {},
   "source": [
    "Thankfully, there is only one given name that both a male and a female celebrity had, handled in a special case below."
   ]
  },
  {
   "cell_type": "code",
   "execution_count": 8,
   "metadata": {},
   "outputs": [],
   "source": [
    "# Add flag for female celebrity.\n",
    "\n",
    "data[\"Female_celebrity\"] = data[\"Couple\"].map(lambda x: x.split(\"&\")[0].strip() in \n",
    "    ['Abbey', 'Alesha', 'Alex', 'Alexandra', 'Ali',\n",
    "    'Alison', 'Anastacia', 'Anita', 'Ann', 'Anneka',\n",
    "    'Carol', 'Caroline', 'Catherine', 'Charlotte',\n",
    "    'Chelsee', 'Cherie', 'Chizzy', 'Christine', 'Claire',\n",
    "    'Clara', 'Claudia', 'Daisy', 'Dani',\n",
    "    'Debbie',\n",
    "    'Deborah', 'Denise', \n",
    "    'Edwina', 'Emma', 'Esther', 'Faye', 'Felicity', 'Fern',\n",
    "    'Fiona', 'Frankie', 'Gabby', 'Gemma', 'Georgia',\n",
    "    'Georgina', 'Gillian', 'Gloria', 'Goldie', \n",
    "    'Heather', 'Helen', 'Holly',\n",
    "    'Jacqui', 'Jade', 'Jamelia',\n",
    "    'Jan', 'Jaye', 'Jennifer',\n",
    "    'Jerry', 'Jessie', 'Jill', 'Jo', 'Jodie', \n",
    "    'Judy', 'Kara',\n",
    "    'Kate', 'Katie', 'Kellie', 'Kelly', \n",
    "    'Kimberley', 'Kirsty', 'Laila', 'Laura', 'Lauren', 'Lesley',\n",
    "    'Letitia', 'Lisa', 'Louisa', 'Louise', 'Lulu', 'Lynda',\n",
    "    'Maisie', 'Martina', \n",
    "    'Mica', 'Michelle', 'Mollie', 'Naga',\n",
    "    'Nancy', 'Natalie', 'Natasha', 'Nicola',\n",
    "    'Pamela', 'Patsy', 'Penny',\n",
    "    'Pixie', 'Rachel', 'Ranvir', \n",
    "    'Ruth', 'Saffron', 'Sarah',\n",
    "    'Siobhan', 'Sophie', 'Stacey', 'Stephanie',\n",
    "    'Sunetra', 'Susan', 'Susanna', 'Susannah', 'Tameka',\n",
    "    'Tina', 'Vanessa', 'Verona', 'Vick',\n",
    "    'Victoria', 'Zoe']\n",
    ").astype(int)\n",
    "\n",
    "# there is a male Ashley and a female Ashley, so this is a special case\n",
    "data.loc[data[\"Couple\"] == \"Ashley & Pasha\", \"Female_celebrity\"] = 1\n"
   ]
  },
  {
   "cell_type": "markdown",
   "metadata": {},
   "source": [
    "At this point we have a data table with more or less everything we need for the analysis. There are a few rows with missing data that will get dropped when the analysis is done and if could probably be fixed with more cleaning rules above..."
   ]
  },
  {
   "cell_type": "code",
   "execution_count": 9,
   "metadata": {},
   "outputs": [],
   "source": [
    "def string_to_type(x, t=int):\n",
    "    try:\n",
    "        return t(x)\n",
    "    except:\n",
    "        return None"
   ]
  },
  {
   "cell_type": "markdown",
   "metadata": {},
   "source": [
    "We will have to filter this data error out..."
   ]
  },
  {
   "cell_type": "code",
   "execution_count": 10,
   "metadata": {
    "scrolled": true
   },
   "outputs": [
    {
     "name": "stdout",
     "output_type": "stream",
     "text": [
      "0.0\n",
      "8.0\n"
     ]
    }
   ],
   "source": [
    "data[\"Total\"] = data[\"Total\"].map(lambda x: string_to_type(x, float))\n",
    "print(data[\"Total\"].min())\n",
    "data = data[data[\"Total\"] >= 3.0] \n",
    "print(data[\"Total\"].min())"
   ]
  },
  {
   "cell_type": "markdown",
   "metadata": {},
   "source": [
    "We will use a multilevel model. This is because I want to treat each series separately, since the judges changed a few times over the course of the show. In a multilevel model, each group is fitted with a gradient and intercept separately in case the within group relationships are different."
   ]
  },
  {
   "cell_type": "code",
   "execution_count": 11,
   "metadata": {
    "scrolled": false
   },
   "outputs": [
    {
     "name": "stdout",
     "output_type": "stream",
     "text": [
      "           Mixed Linear Model Regression Results\n",
      "============================================================\n",
      "Model:              MixedLM  Dependent Variable:  Total     \n",
      "No. Observations:   2660     Method:              REML      \n",
      "No. Groups:         18       Scale:               20.1663   \n",
      "Min. group size:    80       Log-Likelihood:      -7840.5951\n",
      "Max. group size:    211      Converged:           Yes       \n",
      "Mean group size:    147.8                                   \n",
      "------------------------------------------------------------\n",
      "                 Coef.  Std.Err.    z    P>|z| [0.025 0.975]\n",
      "------------------------------------------------------------\n",
      "Intercept        30.966    1.577  19.640 0.000 27.876 34.056\n",
      "Order             0.222    0.028   7.962 0.000  0.167  0.277\n",
      "Female_celebrity  1.417    0.180   7.876 0.000  1.064  1.770\n",
      "Age              -0.150    0.009 -16.819 0.000 -0.168 -0.133\n",
      "Celebrity_BAME    0.760    0.235   3.233 0.001  0.299  1.221\n",
      "Type_Fusion      -0.822    1.898  -0.433 0.665 -4.542  2.898\n",
      "Type_Latin       -1.912    0.207  -9.257 0.000 -2.317 -1.507\n",
      "Type_Speciality  -0.364    0.235  -1.547 0.122 -0.824  0.097\n",
      "Group Var        18.009    3.045                            \n",
      "Group x Week Cov -4.417    0.504                            \n",
      "Week Var          1.202    0.091                            \n",
      "============================================================\n",
      "\n"
     ]
    }
   ],
   "source": [
    "multilevel_data = data[[\"Total\", 'Week', 'Series', 'Order', \"Female_celebrity\", \"Age\", \"Celebrity_BAME\"]]\n",
    "\n",
    "multilevel_data = pd.merge(\n",
    "    multilevel_data,\n",
    "    pd.get_dummies(data[\"Type\"], prefix=\"Type\"),\n",
    "    left_index=True,\n",
    "    right_index=True\n",
    ")\n",
    "\n",
    "for k in multilevel_data.keys():\n",
    "    multilevel_data[k] = multilevel_data[k].map(lambda x: string_to_type(x, float))\n",
    "    \n",
    "md = smf.mixedlm(\n",
    "    \"Total ~ Order  + Female_celebrity + Age + Celebrity_BAME + Type_Fusion + Type_Latin + Type_Speciality\", \n",
    "    multilevel_data, \n",
    "    groups=multilevel_data[\"Series\"],\n",
    "    re_formula=\"~1 + Week\",\n",
    "    missing=\"drop\"\n",
    ")\n",
    "mdf = md.fit()\n",
    "print(mdf.summary())"
   ]
  },
  {
   "cell_type": "markdown",
   "metadata": {},
   "source": [
    "Lets look at the covariance and correlation between the random intercepts and random slopes of the model. The covariance is negative, meaning the slopes get closer together over the weeks of the show (which makes sense - the scores are more spread in the early weeks, meaning they could on average by high or low, but by the end of each series most of the scores are high). The correlation is very strong (and negative) meaning (I think) that the slopes converge strongly."
   ]
  },
  {
   "cell_type": "code",
   "execution_count": 12,
   "metadata": {
    "scrolled": true
   },
   "outputs": [
    {
     "data": {
      "text/plain": [
       "-0.9493587693589361"
      ]
     },
     "execution_count": 12,
     "metadata": {},
     "output_type": "execute_result"
    }
   ],
   "source": [
    "-4.417 / np.sqrt(18.009 * 1.202)"
   ]
  },
  {
   "cell_type": "markdown",
   "metadata": {},
   "source": [
    "Lets check the residuals to make sure the model assumptions are not violated. "
   ]
  },
  {
   "cell_type": "code",
   "execution_count": 13,
   "metadata": {},
   "outputs": [
    {
     "data": {
      "image/png": "[encoded data removed]",
      "text/plain": [
       "<Figure size 864x576 with 1 Axes>"
      ]
     },
     "metadata": {
      "needs_background": "light"
     },
     "output_type": "display_data"
    }
   ],
   "source": [
    "fig = plt.figure(figsize=(12, 8))\n",
    "ax = sns.distplot(mdf.resid, hist = False, kde_kws = {\"shade\" : True, \"lw\": 1}, fit = sst.norm)\n",
    "plt.show()"
   ]
  },
  {
   "cell_type": "code",
   "execution_count": 14,
   "metadata": {
    "scrolled": false
   },
   "outputs": [
    {
     "data": {
      "image/png": "[encoded data removed]",
      "text/plain": [
       "<Figure size 864x576 with 1 Axes>"
      ]
     },
     "metadata": {
      "needs_background": "light"
     },
     "output_type": "display_data"
    }
   ],
   "source": [
    "fig = plt.figure(figsize=(12, 8))\n",
    "ax = fig.add_subplot(111)\n",
    "ax = sm.qqplot(mdf.resid, dist = sst.norm, line = 's', ax = ax)\n",
    "plt.show()"
   ]
  },
  {
   "cell_type": "code",
   "execution_count": 15,
   "metadata": {},
   "outputs": [
    {
     "name": "stdout",
     "output_type": "stream",
     "text": [
      "Statistic 0.9894216060638428\n",
      "p-value 3.878270317739241e-13\n"
     ]
    }
   ],
   "source": [
    "labels = [\"Statistic\", \"p-value\"]\n",
    "\n",
    "norm_res = sst.shapiro(mdf.resid)\n",
    "\n",
    "for key, val in dict(zip(labels, norm_res)).items():\n",
    "    print(key, val)"
   ]
  },
  {
   "cell_type": "markdown",
   "metadata": {},
   "source": [
    "Not bad :)"
   ]
  },
  {
   "cell_type": "code",
   "execution_count": 25,
   "metadata": {},
   "outputs": [],
   "source": [
    "feature_data = data[['Week', 'Series', 'Order', \"Female_celebrity\", \"Celebrity_BAME\", \"Age\", \"Total\"]]\n",
    "\n",
    "feature_data = pd.merge(\n",
    "    feature_data,\n",
    "    pd.get_dummies(data[\"Type\"], prefix=\"Type\"),\n",
    "    left_index=True,\n",
    "    right_index=True\n",
    ")\n",
    "\n",
    "for k in feature_data.keys():\n",
    "    feature_data[k] = feature_data[k].map(lambda x: string_to_type(x, float))\n",
    "\n",
    "feature_data = sm.add_constant(feature_data)\n",
    "feature_data = feature_data.drop(\"Type_Ballroom\", 1)\n",
    "\n",
    "target_data = np.logical_or(data[\"Result\"] == \"Eliminated\", data[\"Result\"] == \"Bottom two\").astype(int)"
   ]
  },
  {
   "cell_type": "markdown",
   "metadata": {},
   "source": [
    "This is a multilevel logistic regression model that looks at whether the dancers ended up in the bottom two. Since the scores that people get will generally increase week by week and the people ending up in the bottom two are \"better\" dancers, the different levels of the model are the week numbers in addition to the series numbers this time. "
   ]
  },
  {
   "cell_type": "code",
   "execution_count": 28,
   "metadata": {
    "scrolled": false
   },
   "outputs": [
    {
     "name": "stderr",
     "output_type": "stream",
     "text": [
      "c:\\users\\james.rafferty\\appdata\\local\\programs\\python\\python38\\lib\\site-packages\\statsmodels\\genmod\\bayes_mixed_glm.py:1068: RuntimeWarning: overflow encountered in exp\n",
      "  return -np.log(1 + np.exp(tm + np.sqrt(tv) * z))\n",
      "c:\\users\\james.rafferty\\appdata\\local\\programs\\python\\python38\\lib\\site-packages\\statsmodels\\genmod\\bayes_mixed_glm.py:1068: RuntimeWarning: overflow encountered in exp\n",
      "  return -np.log(1 + np.exp(tm + np.sqrt(tv) * z))\n"
     ]
    },
    {
     "name": "stdout",
     "output_type": "stream",
     "text": [
      "                  Binomial Mixed GLM Results\n",
      "===============================================================\n",
      "                 Type Post. Mean Post. SD   SD  SD (LB) SD (UB)\n",
      "---------------------------------------------------------------\n",
      "Intercept           M     1.7965   0.0639                      \n",
      "Order               M    -0.0955   0.0116                      \n",
      "Female_celebrity    M     0.2253   0.0894                      \n",
      "Celebrity_BAME      M     0.4932   0.1447                      \n",
      "Age                 M     0.0120   0.0016                      \n",
      "Total               M    -0.2363   0.0022                      \n",
      "Type_Fusion         M    -0.2257   1.0502                      \n",
      "Type_Latin          M    -0.3827   0.1063                      \n",
      "Type_Speciality     M    -0.1118   0.1190                      \n",
      "Week                V    -0.7488   0.5343 0.473   0.162   1.377\n",
      "Series              V    -1.6806   0.7811 0.186   0.039   0.888\n",
      "===============================================================\n",
      "Parameter types are mean structure (M) and variance structure\n",
      "(V)\n",
      "Variance parameters are modeled as log standard deviations\n"
     ]
    }
   ],
   "source": [
    "feature_data_fixed = feature_data[['const', 'Order', 'Female_celebrity', \"Celebrity_BAME\", 'Age', 'Total',\n",
    "       'Type_Fusion', 'Type_Latin', 'Type_Speciality']]\n",
    "feature_data_random = feature_data[[\"Week\", \"Series\"]]\n",
    "\n",
    "inds = ~(feature_data_fixed.isnull().any(axis=1))\n",
    "\n",
    "feature_data = feature_data[inds]\n",
    "target_data = target_data[inds]\n",
    "feature_data[\"Result\"] = target_data\n",
    "\n",
    "logit_model = sm.BinomialBayesMixedGLM.from_formula(\n",
    "    \"Result ~ Order + Female_celebrity + Celebrity_BAME + Age + Total + Type_Fusion + Type_Latin + Type_Speciality\",\n",
    "    {\"Week\": \"1 + Week\", \"Series\": \"1 + Series\"},\n",
    "    feature_data\n",
    ")\n",
    "logit_res = logit_model.fit_vb(fit_method=\"BFGS\")\n",
    "print(logit_res.summary())\n"
   ]
  },
  {
   "cell_type": "code",
   "execution_count": 29,
   "metadata": {},
   "outputs": [
    {
     "data": {
      "text/plain": [
       "1.2526984693668801"
      ]
     },
     "execution_count": 29,
     "metadata": {},
     "output_type": "execute_result"
    }
   ],
   "source": [
    "np.exp(0.2253)"
   ]
  },
  {
   "cell_type": "code",
   "execution_count": 30,
   "metadata": {},
   "outputs": [
    {
     "data": {
      "text/plain": [
       "1.6375479982400416"
      ]
     },
     "execution_count": 30,
     "metadata": {},
     "output_type": "execute_result"
    }
   ],
   "source": [
    "np.exp(0.4932)"
   ]
  },
  {
   "cell_type": "markdown",
   "metadata": {},
   "source": [
    "Women are 25% more likely and BAME people are 64% more likely to be in the dance off, despite both groups getting higher scores from the judges."
   ]
  },
  {
   "cell_type": "code",
   "execution_count": null,
   "metadata": {},
   "outputs": [],
   "source": []
  }
 ],
 "metadata": {
  "kernelspec": {
   "display_name": "Python 3",
   "language": "python",
   "name": "python3"
  },
  "language_info": {
   "codemirror_mode": {
    "name": "ipython",
    "version": 3
   },
   "file_extension": ".py",
   "mimetype": "text/x-python",
   "name": "python",
   "nbconvert_exporter": "python",
   "pygments_lexer": "ipython3",
   "version": "3.8.1"
  }
 },
 "nbformat": 4,
 "nbformat_minor": 4
}
